{
 "cells": [
  {
   "cell_type": "code",
   "execution_count": 1,
   "metadata": {},
   "outputs": [],
   "source": [
    "import numpy as np\n",
    "import matplotlib.pyplot as plt\n",
    "\n",
    "import torch\n",
    "import torch.nn as nn\n",
    "import torch.nn.functional as F\n",
    "import torch.optim as optim\n",
    "\n",
    "import torchvision\n",
    "from torchvision import datasets, transforms\n",
    "from torchvision.utils import save_image\n",
    "from torch.utils.data import DataLoader\n",
    "\n",
    "import os\n",
    "from PIL import Image"
   ]
  },
  {
   "cell_type": "code",
   "execution_count": 2,
   "metadata": {},
   "outputs": [],
   "source": [
    "path = './Data/training/training/n'\n",
    "val_path= './Data/validation/validation/n'"
   ]
  },
  {
   "cell_type": "code",
   "execution_count": 3,
   "metadata": {},
   "outputs": [],
   "source": [
    "transform = transforms.Compose([\n",
    "    transforms.Resize((256,256)),\n",
    "    transforms.RandomCrop((224,224)),\n",
    "    transforms.ColorJitter(brightness=0.5),\n",
    "    transforms.RandomHorizontalFlip(p=0.5),\n",
    "])"
   ]
  },
  {
   "cell_type": "code",
   "execution_count": 4,
   "metadata": {},
   "outputs": [],
   "source": [
    "transform2 = transforms.Compose([\n",
    "    transforms.Resize((256,256)),\n",
    "    transforms.ColorJitter(saturation=0.5),\n",
    "    transforms.RandomRotation(degrees=45),\n",
    "    transforms.RandomVerticalFlip(p=0.05),\n",
    "    transforms.RandomGrayscale(p=0.2)\n",
    "])"
   ]
  },
  {
   "cell_type": "code",
   "execution_count": 5,
   "metadata": {},
   "outputs": [],
   "source": [
    "# train_data = datasets.ImageFolder(root=path,transform=transform)\n",
    "for i in range(10):\n",
    "    path_folder = path + str(i)\n",
    "    for file_name in os.listdir(path_folder):\n",
    "        if file_name.endswith((\".png\",\".jpg\",'.jpeg')):\n",
    "            img_path = os.path.join(path_folder,file_name)\n",
    "            img = Image.open(img_path)\n",
    "\n",
    "            #Appling Augmentation\n",
    "            augemented_img = transform(img)\n",
    "\n",
    "            new_file_name = f\"aug_{file_name}\"\n",
    "            augemented_img.save(os.path.join(path_folder,new_file_name))"
   ]
  },
  {
   "cell_type": "code",
   "execution_count": 6,
   "metadata": {},
   "outputs": [],
   "source": [
    "# train_data = datasets.ImageFolder(root=path,transform=transform)\n",
    "for i in range(10):\n",
    "    path_folder = path + str(i)\n",
    "    for file_name in os.listdir(path_folder):\n",
    "        if file_name.endswith((\".png\",\".jpg\",'.jpeg')):\n",
    "            img_path = os.path.join(path_folder,file_name)\n",
    "            img = Image.open(img_path)\n",
    "\n",
    "            #Appling Augmentation\n",
    "            augemented_img = transform2(img)\n",
    "\n",
    "            new_file_name = f\"aug_{file_name}\"\n",
    "            augemented_img.save(os.path.join(path_folder,new_file_name))"
   ]
  },
  {
   "cell_type": "code",
   "execution_count": 8,
   "metadata": {},
   "outputs": [],
   "source": []
  },
  {
   "cell_type": "code",
   "execution_count": null,
   "metadata": {},
   "outputs": [],
   "source": []
  }
 ],
 "metadata": {
  "kernelspec": {
   "display_name": "Python 3",
   "language": "python",
   "name": "python3"
  },
  "language_info": {
   "codemirror_mode": {
    "name": "ipython",
    "version": 3
   },
   "file_extension": ".py",
   "mimetype": "text/x-python",
   "name": "python",
   "nbconvert_exporter": "python",
   "pygments_lexer": "ipython3",
   "version": "3.11.1"
  }
 },
 "nbformat": 4,
 "nbformat_minor": 2
}
