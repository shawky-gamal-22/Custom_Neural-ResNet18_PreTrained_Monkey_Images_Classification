{
 "cells": [
  {
   "cell_type": "code",
   "execution_count": 1,
   "id": "113049a6-e8aa-421e-be09-55fb6b68b7c0",
   "metadata": {},
   "outputs": [],
   "source": [
    "import numpy as np\n",
    "import matplotlib.pyplot as plt\n",
    "\n",
    "import torch \n",
    "import torch.nn as nn\n",
    "import torch.nn.functional as F\n",
    "import torch.optim as optim\n",
    "\n",
    "import torchvision\n",
    "from torchvision import transforms, datasets\n",
    "\n",
    "\n",
    "from PIL import Image \n",
    "from torch.utils.data import DataLoader\n",
    "import os "
   ]
  },
  {
   "cell_type": "code",
   "execution_count": 2,
   "id": "e7ccaad2-56b7-4030-97ba-8b1856ab3f02",
   "metadata": {},
   "outputs": [],
   "source": [
    "path = \"./Data/aug_data/training/training\"\n",
    "val_path = \"./Data/aug_data/validation/validation\""
   ]
  },
  {
   "cell_type": "code",
   "execution_count": 3,
   "id": "7e157d75-1a60-4b9a-9b47-98f995cdc62d",
   "metadata": {},
   "outputs": [],
   "source": [
    "transform = transforms.Compose([\n",
    "    transforms.Resize((224,224)),\n",
    "    transforms.ToTensor(),\n",
    "])"
   ]
  },
  {
   "cell_type": "code",
   "execution_count": 4,
   "id": "4072e6d7-e760-4973-8847-6dc3f30bc17f",
   "metadata": {},
   "outputs": [],
   "source": [
    "train_data = datasets.ImageFolder(root=path, transform=transform)\n",
    "test_data = datasets.ImageFolder(root=val_path, transform=transform)"
   ]
  },
  {
   "cell_type": "code",
   "execution_count": 5,
   "id": "fd1462ec-a62c-459b-bbea-d768a40174b3",
   "metadata": {},
   "outputs": [],
   "source": [
    "# train_data.target_transform = lambda y: torch.zeros(10, dtype=torch.float).scatter_(0, torch.tensor(y), value=1)"
   ]
  },
  {
   "cell_type": "code",
   "execution_count": 6,
   "id": "d0a553a1-add0-42d5-b658-c787a14afbb5",
   "metadata": {},
   "outputs": [],
   "source": [
    "train_loader = DataLoader(train_data, batch_size=64, shuffle=True)\n",
    "test_loader = DataLoader(test_data, batch_size=64, shuffle=True)"
   ]
  },
  {
   "cell_type": "code",
   "execution_count": 7,
   "id": "3647af7d",
   "metadata": {},
   "outputs": [],
   "source": [
    "torch.cuda.empty_cache()"
   ]
  },
  {
   "cell_type": "code",
   "execution_count": 8,
   "id": "2d1f6b33-7f5b-40b5-a8e8-a9cf900ff0e3",
   "metadata": {},
   "outputs": [],
   "source": [
    "class ConvNet(nn.Module):\n",
    "    def __init__(self):\n",
    "        super().__init__()\n",
    "        self.conv1 = nn.Conv2d(3, 32, 5)  #3, 224, 224  ----> 32, 220, 220\n",
    "        self.bn1 = nn.BatchNorm2d(32)\n",
    "        self.pool = nn.MaxPool2d(2,2)    #32, 220, 220  ----> 32, 110, 110\n",
    "        self.conv2 = nn.Conv2d(32, 64, 5) #32, 110, 110, ----> 64, 106, 106  ----> 64, 53, 53\n",
    "        self.bn2 = nn.BatchNorm2d(64)\n",
    "        self.f1    = nn.Linear(64*53*53, 120)\n",
    "        self.dropout = nn.Dropout(0.5)\n",
    "        self.f2    = nn.Linear(120, 84)\n",
    "        self.f3    = nn.Linear(84, 10)\n",
    "\n",
    "    def forward(self, x):\n",
    "        x = self.pool(F.relu(self.conv1(x)))\n",
    "        x = self.bn1(x)\n",
    "        x = self.pool(F.relu(self.conv2(x)))\n",
    "        x = self.bn2(x)\n",
    "        x = x.view(-1, 64*53*53)\n",
    "        x = F.relu(self.f1(x))\n",
    "        x = self.dropout(x)\n",
    "        x = F.relu(self.f2(x))\n",
    "        x = self.f3(x)\n",
    "        return x\n",
    "\n"
   ]
  },
  {
   "cell_type": "code",
   "execution_count": 9,
   "id": "34e4a1bf-ec1b-4ba8-b779-e7d37bfbacf7",
   "metadata": {},
   "outputs": [],
   "source": [
    "device = torch.device('cuda' if torch.cuda.is_available() else 'cpu')"
   ]
  },
  {
   "cell_type": "code",
   "execution_count": 10,
   "id": "9ed79cb8-7aa6-4f9b-a35c-e9bc7ad93b43",
   "metadata": {},
   "outputs": [],
   "source": [
    "lr = 0.001\n",
    "epochs = 5\n",
    "\n",
    "total_steps = len(train_loader)\n",
    "model = ConvNet().to(device)\n",
    "loss_fn = nn.CrossEntropyLoss()\n",
    "optimizer = optim.Adam(model.parameters(), lr=lr)"
   ]
  },
  {
   "cell_type": "code",
   "execution_count": 11,
   "id": "48c79e13",
   "metadata": {},
   "outputs": [],
   "source": []
  },
  {
   "cell_type": "code",
   "execution_count": 14,
   "id": "6f7c742f-0d35-4663-b75c-d81e47b0e07d",
   "metadata": {},
   "outputs": [
    {
     "name": "stdout",
     "output_type": "stream",
     "text": [
      "Epoch 1, Loss: 1.4184043751313136\n",
      "test_accuracy:50.36764705882353\n",
      "Epoch 2, Loss: 1.2964081729833896\n",
      "test_accuracy:51.470588235294116\n",
      "Epoch 3, Loss: 1.2076863646507263\n",
      "test_accuracy:65.07352941176471\n",
      "Epoch 4, Loss: 1.0277735728483934\n",
      "test_accuracy:61.029411764705884\n",
      "Epoch 5, Loss: 0.964575469493866\n",
      "test_accuracy:56.98529411764706\n",
      "Finished Training \n"
     ]
    }
   ],
   "source": [
    "for epoch in range(epochs):\n",
    "    \n",
    "    running_loss = 0.\n",
    "    \n",
    "    n_correct_test = 0\n",
    "    n_samples_test = 0\n",
    "    model.train()\n",
    "    for i , (images, labels ) in enumerate(train_loader):\n",
    "        \n",
    "        images = images.to(device)\n",
    "        labels = labels.to(device)\n",
    "\n",
    "        # forward pass\n",
    "        pred = model(images)\n",
    "        \n",
    "        loss = loss_fn(pred, labels) \n",
    "\n",
    "        running_loss += loss.item()\n",
    "        #backward pass\n",
    "        optimizer.zero_grad()\n",
    "        loss.backward()\n",
    "        optimizer.step()\n",
    "\n",
    "    print(f\"Epoch {epoch+1}, Loss: {running_loss / len(train_loader)}\")\n",
    "    \n",
    "\n",
    "    model.eval()\n",
    "    with torch.no_grad():\n",
    "        \n",
    "        for i, (imagess, labelss) in enumerate(test_loader):\n",
    "            imagess = imagess.to(device)\n",
    "            labelss = labelss.to(device)\n",
    "\n",
    "            out = model(imagess)\n",
    "            _, predicted = torch.max(out, 1)\n",
    "            n_samples_test += labelss.size(0)\n",
    "            n_correct_test += (predicted ==labelss).sum().item()\n",
    "\n",
    "\n",
    "\n",
    "    acc_test = 100.0 * n_correct_test / n_samples_test\n",
    "    \n",
    "        \n",
    "\n",
    "\n",
    "\n",
    "    print(f\"test_accuracy:{acc_test}\")\n",
    "\n",
    "print(\"Finished Training \")\n",
    "        \n",
    "        "
   ]
  },
  {
   "cell_type": "code",
   "execution_count": 13,
   "id": "303b1405-ca31-4ea7-a687-40076966fc1b",
   "metadata": {},
   "outputs": [],
   "source": []
  },
  {
   "cell_type": "code",
   "execution_count": 15,
   "id": "b8159a01-8459-4cb2-9594-fa9c284253c7",
   "metadata": {},
   "outputs": [
    {
     "name": "stdout",
     "output_type": "stream",
     "text": [
      "Total Accuracy : 56.98529411764706\n",
      "Class[0] Accuracy : 38.46153846153846\n",
      "Class[1] Accuracy : 75.0\n",
      "Class[2] Accuracy : 92.5925925925926\n",
      "Class[3] Accuracy : 56.666666666666664\n",
      "Class[4] Accuracy : 46.15384615384615\n",
      "Class[5] Accuracy : 39.285714285714285\n",
      "Class[6] Accuracy : 34.61538461538461\n",
      "Class[7] Accuracy : 17.857142857142858\n",
      "Class[8] Accuracy : 88.88888888888889\n",
      "Class[9] Accuracy : 80.76923076923077\n"
     ]
    }
   ],
   "source": [
    "model.eval()\n",
    "with torch.no_grad():\n",
    "    n_correct = 0\n",
    "    n_samples = 0\n",
    "    n_class_correct = [0 for i in range(10)]\n",
    "    n_class_samples = [0 for i in range(10)]\n",
    "    for i, (images, labels) in enumerate(test_loader):\n",
    "        images = images.to(device)\n",
    "        labels = labels.to(device)\n",
    "\n",
    "        out = model(images)\n",
    "\n",
    "        _, predicted = torch.max(out, 1)\n",
    "        n_samples += labels.size(0)\n",
    "        n_correct += (predicted ==labels).sum().item()\n",
    "\n",
    "        for j in range(len(labels)):\n",
    "            label = labels[j]\n",
    "            pred = predicted[j]\n",
    "            if (label == pred):\n",
    "                n_class_correct[label] += 1\n",
    "            n_class_samples[label] += 1\n",
    "    acc = 100.0 * n_correct / n_samples\n",
    "    print(f\"Total Accuracy : {acc}\")\n",
    "\n",
    "    for i in range(10):\n",
    "        acc1 = 100.0 * n_class_correct[i] / n_class_samples[i]\n",
    "        print(f\"Class[{i}] Accuracy : {acc1}\")\n",
    "            "
   ]
  },
  {
   "cell_type": "code",
   "execution_count": null,
   "id": "8f4a1aa9-1392-437f-ae3b-0bb8641095bb",
   "metadata": {},
   "outputs": [],
   "source": []
  }
 ],
 "metadata": {
  "kernelspec": {
   "display_name": "Python 3",
   "language": "python",
   "name": "python3"
  },
  "language_info": {
   "codemirror_mode": {
    "name": "ipython",
    "version": 3
   },
   "file_extension": ".py",
   "mimetype": "text/x-python",
   "name": "python",
   "nbconvert_exporter": "python",
   "pygments_lexer": "ipython3",
   "version": "3.11.1"
  }
 },
 "nbformat": 4,
 "nbformat_minor": 5
}
